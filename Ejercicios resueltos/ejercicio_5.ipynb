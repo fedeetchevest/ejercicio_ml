{
 "cells": [
  {
   "attachments": {},
   "cell_type": "markdown",
   "metadata": {},
   "source": [
    "5) ¿Cuál es la comuna con más propiedades a la venta?"
   ]
  },
  {
   "cell_type": "code",
   "execution_count": null,
   "metadata": {},
   "outputs": [],
   "source": [
    "import pandas as pd\n",
    "df_inmuebles = pd.read_csv('../df_inmuebles_completo.csv')\n",
    "df_inmuebles"
   ]
  },
  {
   "cell_type": "code",
   "execution_count": 2,
   "metadata": {},
   "outputs": [
    {
     "data": {
      "text/plain": [
       "PALERMO              1693\n",
       "RECOLETA             1145\n",
       "BELGRANO              784\n",
       "BALVANERA             578\n",
       "CABALLITO             551\n",
       "ALMAGRO               448\n",
       "FLORES                442\n",
       "RETIRO                409\n",
       "VILLA CRESPO          386\n",
       "VILLA URQUIZA         339\n",
       "NUÑEZ                 297\n",
       "SAN NICOLAS           278\n",
       "COLEGIALES            208\n",
       "VILLA DEVOTO          201\n",
       "MONSERRAT             200\n",
       "PUERTO MADERO         190\n",
       "SAAVEDRA              174\n",
       "CONSTITUCION          133\n",
       "BARRACAS              129\n",
       "VILLA DEL PARQUE      124\n",
       "LINIERS               119\n",
       "SAN CRISTOBAL         104\n",
       "MONTE CASTRO           98\n",
       "FLORESTA               97\n",
       "SAN TELMO              96\n",
       "CHACARITA              86\n",
       "VILLA PUEYRREDON       86\n",
       "PARQUE CHACABUCO       84\n",
       "VILLA GRAL. MITRE      84\n",
       "COGHLAN                84\n",
       "VILLA ORTUZAR          82\n",
       "BOCA                   76\n",
       "VELEZ SARSFIELD        73\n",
       "MATADEROS              71\n",
       "BOEDO                  66\n",
       "PARQUE CHAS            64\n",
       "VILLA LURO             64\n",
       "PARQUE PATRICIOS       64\n",
       "VILLA LUGANO           61\n",
       "PATERNAL               53\n",
       "VILLA SANTA RITA       53\n",
       "VERSALLES              49\n",
       "NUEVA POMPEYA          35\n",
       "PARQUE AVELLANEDA      34\n",
       "AGRONOMIA              34\n",
       "VILLA REAL             25\n",
       "VILLA SOLDATI          10\n",
       "VILLA RIACHUELO         6\n",
       "Name: barrio, dtype: int64"
      ]
     },
     "execution_count": 2,
     "metadata": {},
     "output_type": "execute_result"
    }
   ],
   "source": [
    "propiedades_en_barrios = df_inmuebles['barrio'].value_counts()\n",
    "propiedades_en_barrios"
   ]
  }
 ],
 "metadata": {
  "kernelspec": {
   "display_name": "base",
   "language": "python",
   "name": "python3"
  },
  "language_info": {
   "codemirror_mode": {
    "name": "ipython",
    "version": 3
   },
   "file_extension": ".py",
   "mimetype": "text/x-python",
   "name": "python",
   "nbconvert_exporter": "python",
   "pygments_lexer": "ipython3",
   "version": "3.9.13"
  },
  "orig_nbformat": 4
 },
 "nbformat": 4,
 "nbformat_minor": 2
}
