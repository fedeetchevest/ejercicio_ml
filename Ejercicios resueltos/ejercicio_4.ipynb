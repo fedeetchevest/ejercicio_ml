{
 "cells": [
  {
   "attachments": {},
   "cell_type": "markdown",
   "metadata": {},
   "source": [
    "4) Obtener el valor promedio de las propiedades para cada barrio."
   ]
  },
  {
   "cell_type": "code",
   "execution_count": null,
   "metadata": {},
   "outputs": [],
   "source": [
    "import pandas as pd\n",
    "df_inmuebles = pd.read_csv('../df_inmuebles_completo.csv')\n",
    "df_inmuebles"
   ]
  },
  {
   "cell_type": "code",
   "execution_count": 19,
   "metadata": {},
   "outputs": [
    {
     "data": {
      "text/plain": [
       "barrio\n",
       "AGRONOMIA            218979.26\n",
       "ALMAGRO              173272.47\n",
       "BALVANERA            148236.02\n",
       "BARRACAS             198668.04\n",
       "BELGRANO             434403.08\n",
       "BOCA                 141738.63\n",
       "BOEDO                168235.26\n",
       "CABALLITO            212536.58\n",
       "CHACARITA            202209.53\n",
       "COGHLAN              216351.75\n",
       "COLEGIALES           264435.02\n",
       "CONSTITUCION         134486.17\n",
       "FLORES               213249.55\n",
       "FLORESTA             151243.30\n",
       "LINIERS              191292.80\n",
       "MATADEROS            197230.99\n",
       "MONSERRAT            159414.23\n",
       "MONTE CASTRO         194917.11\n",
       "NUEVA POMPEYA        146603.77\n",
       "NUÑEZ                350100.09\n",
       "PALERMO              447954.79\n",
       "PARQUE AVELLANEDA    188117.65\n",
       "PARQUE CHACABUCO     235631.83\n",
       "PARQUE CHAS          153356.31\n",
       "PARQUE PATRICIOS     134076.31\n",
       "PATERNAL             170590.57\n",
       "PUERTO MADERO       1001445.64\n",
       "RECOLETA             390861.89\n",
       "RETIRO               511134.50\n",
       "SAAVEDRA             225551.14\n",
       "SAN CRISTOBAL        127332.06\n",
       "SAN NICOLAS          163728.21\n",
       "SAN TELMO            207567.59\n",
       "VELEZ SARSFIELD      160566.38\n",
       "VERSALLES            209289.80\n",
       "VILLA CRESPO         181826.71\n",
       "VILLA DEL PARQUE     217166.02\n",
       "VILLA DEVOTO         315376.24\n",
       "VILLA GRAL. MITRE    159676.30\n",
       "VILLA LUGANO         124999.98\n",
       "VILLA LURO           181952.64\n",
       "VILLA ORTUZAR        305486.78\n",
       "VILLA PUEYRREDON     170321.55\n",
       "VILLA REAL           163040.00\n",
       "VILLA RIACHUELO      153333.33\n",
       "VILLA SANTA RITA     160072.64\n",
       "VILLA SOLDATI         64833.30\n",
       "VILLA URQUIZA        235509.80\n",
       "Name: price_usd, dtype: float64"
      ]
     },
     "execution_count": 19,
     "metadata": {},
     "output_type": "execute_result"
    }
   ],
   "source": [
    "df_barrios = df_inmuebles.groupby('barrio')['price_usd'].mean()\n",
    "df_barrios"
   ]
  }
 ],
 "metadata": {
  "kernelspec": {
   "display_name": "base",
   "language": "python",
   "name": "python3"
  },
  "language_info": {
   "codemirror_mode": {
    "name": "ipython",
    "version": 3
   },
   "file_extension": ".py",
   "mimetype": "text/x-python",
   "name": "python",
   "nbconvert_exporter": "python",
   "pygments_lexer": "ipython3",
   "version": "3.9.13"
  },
  "orig_nbformat": 4
 },
 "nbformat": 4,
 "nbformat_minor": 2
}
