{
 "cells": [
  {
   "attachments": {},
   "cell_type": "markdown",
   "metadata": {},
   "source": [
    "2) Cual es el ID de la casa (‘house’) que tiene una superficie descubierta de al menos 800 m 2 y su valor (‘price_usd’) es el más barato?"
   ]
  },
  {
   "cell_type": "code",
   "execution_count": null,
   "metadata": {},
   "outputs": [],
   "source": [
    "import pandas as pd\n",
    "id_house_apartments = pd.read_excel('../Dataset_Inmuebles.xlsx', sheet_name = 'Inputs_1')\n",
    "df_inmuebles = pd.read_csv('../inmuebles_modificado.csv')\n",
    "\n",
    "house = id_house_apartments[id_house_apartments['property_type'] == 'house']\n",
    "house.sort_values('ID')\n",
    "\n",
    "conjunto_df = pd.merge(house,df_inmuebles, on='ID')"
   ]
  },
  {
   "cell_type": "code",
   "execution_count": 17,
   "metadata": {},
   "outputs": [
    {
     "data": {
      "text/plain": [
       "ID                                                                     2903\n",
       "property_type                                                         house\n",
       "lat                                                            -345.867.893\n",
       "lon                                                            -584.129.846\n",
       "description               COSTA ESMERALDA BARRIO EQUESTRE EXCELENTE CHAL...\n",
       "title                                               COSTA ESMERALDA.|.HOUSE\n",
       "price_usd                                                          150000.0\n",
       "surface_total                                                          1000\n",
       "surface_covered                                                         190\n",
       "floor                                                                   0.0\n",
       "rooms                                                                     4\n",
       "expenses                                                                0.0\n",
       "superficie_descubierta                                                  810\n",
       "Name: 603, dtype: object"
      ]
     },
     "execution_count": 17,
     "metadata": {},
     "output_type": "execute_result"
    }
   ],
   "source": [
    "conjunto_df['superficie_descubierta'] = conjunto_df['surface_total'] - conjunto_df['surface_covered']\n",
    "\n",
    "superficie_mas_800 = conjunto_df[conjunto_df['superficie_descubierta']>= 800]\n",
    "propiedad_mas_barata = superficie_mas_800.loc[superficie_mas_800['price_usd'].idxmin()]\n",
    "\n",
    "propiedad_mas_barata"
   ]
  }
 ],
 "metadata": {
  "kernelspec": {
   "display_name": "base",
   "language": "python",
   "name": "python3"
  },
  "language_info": {
   "codemirror_mode": {
    "name": "ipython",
    "version": 3
   },
   "file_extension": ".py",
   "mimetype": "text/x-python",
   "name": "python",
   "nbconvert_exporter": "python",
   "pygments_lexer": "ipython3",
   "version": "3.9.13"
  },
  "orig_nbformat": 4
 },
 "nbformat": 4,
 "nbformat_minor": 2
}
