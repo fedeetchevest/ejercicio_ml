{
 "cells": [
  {
   "attachments": {},
   "cell_type": "markdown",
   "metadata": {},
   "source": [
    "1) ¿Cuál es el ID del inmueble que requiere mayor gasto/inversión (‘price_usd’ + ‘expenses’) para adquirirlo?"
   ]
  },
  {
   "cell_type": "code",
   "execution_count": 36,
   "metadata": {},
   "outputs": [
    {
     "name": "stdout",
     "output_type": "stream",
     "text": [
      "ID                        6528.0\n",
      "price_usd             11111111.0\n",
      "surface_total               78.0\n",
      "surface_covered             68.0\n",
      "floor                        7.0\n",
      "rooms                        3.0\n",
      "expenses                     0.0\n",
      "price_mas_expenses    11111111.0\n",
      "Name: 2806, dtype: float64\n"
     ]
    }
   ],
   "source": [
    "import pandas as pd\n",
    "\n",
    "df_inmuebles = pd.read_csv('./inmuebles_modificado.csv')\n",
    "\n",
    "df_inmuebles['price_mas_expenses'] = df_inmuebles['price_usd'] + df_inmuebles['expenses']\n",
    "\n",
    "valor_max = df_inmuebles.loc[df_inmuebles['price_mas_expenses'].idxmax()]\n",
    "print(valor_max)"
   ]
  }
 ],
 "metadata": {
  "kernelspec": {
   "display_name": "base",
   "language": "python",
   "name": "python3"
  },
  "language_info": {
   "codemirror_mode": {
    "name": "ipython",
    "version": 3
   },
   "file_extension": ".py",
   "mimetype": "text/x-python",
   "name": "python",
   "nbconvert_exporter": "python",
   "pygments_lexer": "ipython3",
   "version": "3.9.13"
  },
  "orig_nbformat": 4
 },
 "nbformat": 4,
 "nbformat_minor": 2
}
