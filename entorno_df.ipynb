{
 "cells": [
  {
   "cell_type": "code",
   "execution_count": 2,
   "metadata": {},
   "outputs": [],
   "source": [
    "import pandas as pd\n",
    "inmuebles = pd.read_excel('./Dataset_Inmuebles.xlsx', sheet_name = 'Inputs_2')"
   ]
  },
  {
   "cell_type": "code",
   "execution_count": null,
   "metadata": {},
   "outputs": [],
   "source": [
    "#Convierto los precios con 'k' a float y los guardo en una nueva 'columna_price'\n",
    "columna_price = inmuebles['price_usd']\n",
    "\n",
    "def convertir_precio(cadena):\n",
    "    multiplicadores = {'k': 1000}\n",
    "    multiplicador = multiplicadores.get(cadena[-1], 1)\n",
    "    return float(cadena[:-1]) * multiplicador\n",
    "\n",
    "inmuebles['columna_price'] = inmuebles['price_usd'].apply(convertir_precio)\n",
    "\n",
    "#igualo los valores de 'price_usd' y mi 'columna_price'\n",
    "\n",
    "inmuebles['price_usd'] = inmuebles['columna_price']\n",
    "\n",
    "#Hago un drop de mi 'columna_price'\n",
    "inmuebles = inmuebles.drop('columna_price', axis=1)"
   ]
  },
  {
   "cell_type": "code",
   "execution_count": 4,
   "metadata": {},
   "outputs": [
    {
     "name": "stdout",
     "output_type": "stream",
     "text": [
      "         ID  price_usd  surface_total  surface_covered  floor  rooms  expenses\n",
      "0       222   250000.0            150              140    0.0      6       0.0\n",
      "1      4224   399000.0            164              155    0.0      4       0.0\n",
      "2       318   130500.0             52               47    0.0      2       0.0\n",
      "3      6122   124000.0             68               55    0.0      3       0.0\n",
      "4      8378   210000.0             93               81    0.0      4       0.0\n",
      "...     ...        ...            ...              ...    ...    ...       ...\n",
      "10562  6601    90000.0             40               40    0.0      1       0.0\n",
      "10563  4538   225000.0             97               87    0.0      4    6500.0\n",
      "10564  6714   375000.0            106              106    0.0      4       0.0\n",
      "10565  7151   130000.0             50               50    0.0      3    3900.0\n",
      "10566  8758   220815.0             71               49    0.0      3       0.0\n",
      "\n",
      "[10567 rows x 7 columns]\n"
     ]
    }
   ],
   "source": [
    "#Relleno los valores vacios en el df con '0'\n",
    "inmuebles = inmuebles.fillna(0)\n",
    "print(inmuebles)"
   ]
  },
  {
   "cell_type": "code",
   "execution_count": 5,
   "metadata": {},
   "outputs": [],
   "source": [
    "#Exporto el df modificado\n",
    "inmuebles_modificado = inmuebles.copy()\n",
    "inmuebles_modificado.to_csv('inmuebles_modificado.csv', index=False)\n"
   ]
  },
  {
   "attachments": {},
   "cell_type": "markdown",
   "metadata": {},
   "source": [
    "Creo un data frame completo con las 3 hojas de excel"
   ]
  },
  {
   "cell_type": "code",
   "execution_count": 9,
   "metadata": {},
   "outputs": [],
   "source": [
    "import pandas as pd\n",
    "inmuebles_1 = pd.read_excel('./Dataset_Inmuebles.xlsx', sheet_name = 'Inputs_1')\n",
    "inmuebles_2 = pd.read_csv('./inmuebles_modificado.csv')\n",
    "\n",
    "df_inmuebles = pd.merge(inmuebles_1,inmuebles_2, on='ID')\n",
    "\n",
    "inmuebles_3 = pd.read_excel('./Dataset_Inmuebles.xlsx', sheet_name = 'Inputs_3')\n",
    "df_inmuebles_completo = pd.merge(df_inmuebles,inmuebles_3, on='ID')\n",
    "\n",
    "df_inmuebles_completo.to_csv('df_inmuebles_completo.csv', index=False)"
   ]
  },
  {
   "attachments": {},
   "cell_type": "markdown",
   "metadata": {},
   "source": [
    "Creo un nuevo dataset con las tablas 'price_usd', 'surface_total, y 'expenses'"
   ]
  },
  {
   "cell_type": "code",
   "execution_count": 11,
   "metadata": {},
   "outputs": [],
   "source": [
    "import pandas as pd\n",
    "inmuebles = pd.read_csv('./inmuebles_modificado.csv')\n",
    "\n",
    "precio_superficie_expensas = pd.DataFrame({\n",
    "    'ID': inmuebles['ID'],\n",
    "    'price_usd': inmuebles['price_usd'],\n",
    "    'surface_total': inmuebles['surface_total'],\n",
    "    'expenses': inmuebles['expenses']  \n",
    "})\n",
    "precio_superficie_expensas.to_csv('precio_superficie_expensas.csv', index=False)"
   ]
  }
 ],
 "metadata": {
  "kernelspec": {
   "display_name": "base",
   "language": "python",
   "name": "python3"
  },
  "language_info": {
   "codemirror_mode": {
    "name": "ipython",
    "version": 3
   },
   "file_extension": ".py",
   "mimetype": "text/x-python",
   "name": "python",
   "nbconvert_exporter": "python",
   "pygments_lexer": "ipython3",
   "version": "3.9.13"
  },
  "orig_nbformat": 4
 },
 "nbformat": 4,
 "nbformat_minor": 2
}
